{
  "nbformat": 4,
  "nbformat_minor": 0,
  "metadata": {
    "colab": {
      "name": "Python functions 101.ipynb",
      "provenance": [],
      "collapsed_sections": []
    },
    "kernelspec": {
      "name": "python3",
      "display_name": "Python 3"
    }
  },
  "cells": [
    {
      "cell_type": "markdown",
      "metadata": {
        "id": "0QoZVDq6dijc"
      },
      "source": [
        "# Python functions 101\n",
        "\n",
        "### What is function? (https://www.w3schools.com/python/python_functions.asp)\n",
        "\n",
        "- A function is a block of code which only runs when it is called.\n",
        "- You can pass data, known as parameters, into a function.\n",
        "- A function can return data as a result.\n",
        "\n",
        "\n"
      ]
    },
    {
      "cell_type": "markdown",
      "metadata": {
        "id": "oSDlKKhMeRvx"
      },
      "source": [
        "## a very simple function without argument "
      ]
    },
    {
      "cell_type": "code",
      "metadata": {
        "id": "nw9rfE4Udf2v"
      },
      "source": [
        "def print_hello():\n",
        "  print('hello')"
      ],
      "execution_count": 4,
      "outputs": []
    },
    {
      "cell_type": "code",
      "metadata": {
        "id": "cH0B4GwMrcmC",
        "outputId": "a5bd0a2f-752c-485b-b1a6-8d5f509872d0",
        "colab": {
          "base_uri": "https://localhost:8080/"
        }
      },
      "source": [
        "print_hello()"
      ],
      "execution_count": 8,
      "outputs": [
        {
          "output_type": "stream",
          "text": [
            "hello\n"
          ],
          "name": "stdout"
        }
      ]
    },
    {
      "cell_type": "markdown",
      "metadata": {
        "id": "XiKnkoHKehuD"
      },
      "source": [
        ""
      ]
    },
    {
      "cell_type": "markdown",
      "metadata": {
        "id": "AcXjtSYIei98"
      },
      "source": [
        "## a function with an argument "
      ]
    },
    {
      "cell_type": "code",
      "metadata": {
        "id": "nT47rI-gei9-"
      },
      "source": [
        "def add_2_to_input(num):\n",
        "  new_number = num + 2\n",
        "  return(new_number)"
      ],
      "execution_count": 9,
      "outputs": []
    },
    {
      "cell_type": "code",
      "metadata": {
        "id": "UZc01w56r9I8",
        "outputId": "c26eaf79-67ab-412b-89dc-ddad7d03b9be",
        "colab": {
          "base_uri": "https://localhost:8080/"
        }
      },
      "source": [
        "output = add_2_to_input(5)\n",
        "output"
      ],
      "execution_count": 11,
      "outputs": [
        {
          "output_type": "execute_result",
          "data": {
            "text/plain": [
              "7"
            ]
          },
          "metadata": {
            "tags": []
          },
          "execution_count": 11
        }
      ]
    },
    {
      "cell_type": "markdown",
      "metadata": {
        "id": "Egfgq7sFehUc"
      },
      "source": [
        "## a very function with two arguments"
      ]
    },
    {
      "cell_type": "code",
      "metadata": {
        "id": "f_pr-y2cegVt"
      },
      "source": [
        "def add_numbers(num1, num2):\n",
        "  return(num1 + num2)"
      ],
      "execution_count": 17,
      "outputs": []
    },
    {
      "cell_type": "code",
      "metadata": {
        "id": "asMLwh9esn8C",
        "outputId": "fa436968-7948-4ace-8c3c-f748a8b61698",
        "colab": {
          "base_uri": "https://localhost:8080/"
        }
      },
      "source": [
        "x = 3\n",
        "add_numbers(x, 5)"
      ],
      "execution_count": 18,
      "outputs": [
        {
          "output_type": "execute_result",
          "data": {
            "text/plain": [
              "8"
            ]
          },
          "metadata": {
            "tags": []
          },
          "execution_count": 18
        }
      ]
    },
    {
      "cell_type": "code",
      "metadata": {
        "id": "wwVCB2JKsyTU",
        "outputId": "1b64280b-d50e-49c8-c749-c3940a9d31ec",
        "colab": {
          "base_uri": "https://localhost:8080/",
          "height": 165
        }
      },
      "source": [
        "add_numbers(3)"
      ],
      "execution_count": 19,
      "outputs": [
        {
          "output_type": "error",
          "ename": "TypeError",
          "evalue": "ignored",
          "traceback": [
            "\u001b[0;31m---------------------------------------------------------------------------\u001b[0m",
            "\u001b[0;31mTypeError\u001b[0m                                 Traceback (most recent call last)",
            "\u001b[0;32m<ipython-input-19-fb8ff38ba81e>\u001b[0m in \u001b[0;36m<module>\u001b[0;34m()\u001b[0m\n\u001b[0;32m----> 1\u001b[0;31m \u001b[0madd_numbers\u001b[0m\u001b[0;34m(\u001b[0m\u001b[0;36m3\u001b[0m\u001b[0;34m)\u001b[0m\u001b[0;34m\u001b[0m\u001b[0;34m\u001b[0m\u001b[0m\n\u001b[0m",
            "\u001b[0;31mTypeError\u001b[0m: add_numbers() missing 1 required positional argument: 'num2'"
          ]
        }
      ]
    },
    {
      "cell_type": "markdown",
      "metadata": {
        "id": "BEbmMOtUfoSE"
      },
      "source": [
        "## a function with two arguments with defaults "
      ]
    },
    {
      "cell_type": "code",
      "metadata": {
        "id": "_9yASq-cfoSF"
      },
      "source": [
        "def add_numbers_with_defaults(num1 = 100, num2 = 200):\n",
        "  return(num1 + num2)"
      ],
      "execution_count": 25,
      "outputs": []
    },
    {
      "cell_type": "code",
      "metadata": {
        "id": "1NTIzaMCs_1L",
        "outputId": "0a16732f-de42-4733-db19-767639ce6391",
        "colab": {
          "base_uri": "https://localhost:8080/"
        }
      },
      "source": [
        "add_numbers_with_defaults(2, 5)"
      ],
      "execution_count": 27,
      "outputs": [
        {
          "output_type": "execute_result",
          "data": {
            "text/plain": [
              "7"
            ]
          },
          "metadata": {
            "tags": []
          },
          "execution_count": 27
        }
      ]
    },
    {
      "cell_type": "markdown",
      "metadata": {
        "id": "BzvSBJgSgBc-"
      },
      "source": [
        "## a function with arbitrary number of arguments"
      ]
    },
    {
      "cell_type": "code",
      "metadata": {
        "id": "9mw9DEFlgBc_"
      },
      "source": [
        "def sum_numbers_and_multiply(*numbers, multi):\n",
        "  output = sum(numbers) * multi\n",
        "  return(output)"
      ],
      "execution_count": 31,
      "outputs": []
    },
    {
      "cell_type": "code",
      "metadata": {
        "id": "MEYqGV9Ve2FF",
        "outputId": "a0d83b9c-da98-45b1-ee86-31c91f4e00d9",
        "colab": {
          "base_uri": "https://localhost:8080/"
        }
      },
      "source": [
        "sum_numbers_and_multiply(1,3, multi = 2)"
      ],
      "execution_count": 32,
      "outputs": [
        {
          "output_type": "execute_result",
          "data": {
            "text/plain": [
              "8"
            ]
          },
          "metadata": {
            "tags": []
          },
          "execution_count": 32
        }
      ]
    }
  ]
}